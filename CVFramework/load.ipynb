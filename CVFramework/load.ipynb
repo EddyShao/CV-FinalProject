{
  "nbformat": 4,
  "nbformat_minor": 0,
  "metadata": {
    "colab": {
      "name": "load.ipynb",
      "provenance": [],
      "machine_shape": "hm"
    },
    "kernelspec": {
      "name": "python3",
      "display_name": "Python 3"
    },
    "language_info": {
      "name": "python"
    },
    "accelerator": "TPU"
  },
  "cells": [
    {
      "cell_type": "code",
      "metadata": {
        "colab": {
          "base_uri": "https://localhost:8080/"
        },
        "id": "P3kWpv8SqLZx",
        "outputId": "06d80d4d-2ea9-4716-80d3-136c2f50c3b7"
      },
      "source": [
        "from google.colab import drive\n",
        "drive.mount('/content/drive')\n",
        "%cd  /content/drive/'My Drive'/Computer Vision-Final Project"
      ],
      "execution_count": null,
      "outputs": [
        {
          "output_type": "stream",
          "name": "stdout",
          "text": [
            "Drive already mounted at /content/drive; to attempt to forcibly remount, call drive.mount(\"/content/drive\", force_remount=True).\n",
            "/content/drive/My Drive/Computer Vision-Final Project\n"
          ]
        }
      ]
    },
    {
      "cell_type": "markdown",
      "metadata": {
        "id": "P-vdfqO3p_cr"
      },
      "source": [
        "# **Load Drone Dataset**"
      ]
    },
    {
      "cell_type": "code",
      "metadata": {
        "id": "25MV680drVhC"
      },
      "source": [
        "import torch\n",
        "import torch.nn as nn\n",
        "from torch.utils.data import Dataset, DataLoader\n",
        "from torchvision import transforms as T\n",
        "import torch.nn.functional as F\n",
        "\n",
        "from torch.utils.data import Dataset, DataLoader\n",
        "from PIL import Image\n",
        "import cv2\n",
        "#\n",
        "# Drone Dataset:\n",
        "mean=[0.485, 0.456, 0.406]\n",
        "std=[0.229, 0.224, 0.225]\n",
        "class DroneDataset(Dataset):\n",
        "\n",
        "    def __init__(self, img_path, mask_path, X, mean, std, transform=None):\n",
        "        self.img_path = img_path\n",
        "        self.mask_path = mask_path\n",
        "        self.X = X\n",
        "        self.transform = transform\n",
        "        self.mean = mean\n",
        "        self.std = std\n",
        "\n",
        "    def __len__(self):\n",
        "        return len(self.X)\n",
        "\n",
        "    def __getitem__(self, i):\n",
        "        img = cv2.imread(self.img_path + self.X[i] + '.jpg')\n",
        "        img = cv2.cvtColor(img, cv2.COLOR_BGR2RGB)\n",
        "        mask = cv2.imread(self.mask_path + '0' + self.X[i] + '.png', cv2.IMREAD_GRAYSCALE)\n",
        "\n",
        "        # how to transform?\n",
        "        if self.transform:\n",
        "            augmented = self.transform(image=img, mask=mask)\n",
        "            img = Image.fromarray(augmented['image'])\n",
        "            mask = augmented['mask']\n",
        "        else:\n",
        "            img = Image.fromarray(img)\n",
        "        trans = T.Compose(\n",
        "            [T.ToTensor(),\n",
        "             T.Normalize(self.mean, self.std)]\n",
        "        )\n",
        "        img = trans(img)\n",
        "        # simply calling the below will not work, you have to forward it to return something,\n",
        "        # thus, we have to use T.Compose and then call it.\n",
        "        # img = T.ToTensor()\n",
        "        # img = T.Normalize(self.mean, self.std)\n",
        "        mask = torch.from_numpy(mask).long()\n",
        "\n",
        "        # if self.patches:\n",
        "        #     img, mask = self.tiles(img, mask)\n",
        "\n",
        "        return img, mask\n",
        "\n",
        "\n",
        "class DroneTestDataset(Dataset):\n",
        "\n",
        "    def __init__(self, img_path, mask_path, X):\n",
        "        self.img_path = img_path\n",
        "        self.mask_path = mask_path\n",
        "        self.X = X\n",
        "\n",
        "    def __len__(self):\n",
        "        return len(self.X)\n",
        "\n",
        "    def __getitem__(self, idx):\n",
        "        img = cv2.imread(self.img_path + self.X[idx] + '.jpg')\n",
        "        img = cv2.cvtColor(img, cv2.COLOR_BGR2RGB)\n",
        "        mask = cv2.imread(self.mask_path + '0' + self.X[idx] + '.png', cv2.IMREAD_GRAYSCALE)\n",
        "\n",
        "        mask = torch.from_numpy(mask).long()\n",
        "\n",
        "        return img, mask\n"
      ],
      "execution_count": 42,
      "outputs": []
    },
    {
      "cell_type": "code",
      "metadata": {
        "colab": {
          "base_uri": "https://localhost:8080/"
        },
        "id": "feQaQ9_Zp9rW",
        "outputId": "01d1ce6a-e916-4f29-a3c9-10e8f1dc3f80"
      },
      "source": [
        "import os\n",
        "import time\n",
        "\n",
        "import torch\n",
        "import torch.nn as nn\n",
        "from torch.utils.data import Dataset, DataLoader\n",
        "from torchvision import transforms as T\n",
        "import torch.nn.functional as F\n",
        "\n",
        "\n",
        "\n",
        "from sklearn.model_selection import train_test_split\n",
        "\n",
        "from PIL import Image\n",
        "import cv2\n",
        "\n",
        "\n",
        "import pandas as pd\n",
        "import numpy as np\n",
        "import matplotlib.pyplot as plt\n",
        "\n",
        "IMAGE_PATH = 'drone_dataset/images'\n",
        "MASK_PATH = 'drone_dataset/dataset/label_processed'\n",
        "\n",
        "\n",
        "# create df with id of the dataset\n",
        "def create_df(path):\n",
        "    name = []\n",
        "    for root, dirnames, filenames in os.walk(path):\n",
        "        for filename in filenames:\n",
        "            name.append(filename.split('.')[0])\n",
        "\n",
        "    return pd.DataFrame({'id': name}, index=np.arange(0, len(name)))\n",
        "\n",
        "\n",
        "df = create_df(IMAGE_PATH)\n",
        "print('Total Images: ', len(df))\n",
        "\n",
        "\n",
        "\n",
        "# split the dataset into train, validation and test data\n",
        "X_trainval, X_test = train_test_split(df['id'].values, test_size=0.1, random_state=0)\n",
        "X_train, X_val = train_test_split(X_trainval, test_size=0.15, random_state=0)\n",
        "\n",
        "\n",
        "# Define mean and std value\n",
        "# Drone Dataset\n",
        "mean = [0.485, 0.456, 0.406]\n",
        "std = [0.229, 0.224, 0.225]\n",
        "\n",
        "# create datasets\n",
        "train_set = DroneDataset(IMAGE_PATH, MASK_PATH, X_train, mean, std)\n",
        "val_set = DroneDataset(IMAGE_PATH, MASK_PATH, X_val, mean, std)\n",
        "# load data--->define batch size\n",
        "batch_size = 3\n",
        "\n",
        "train_loader = DataLoader(train_set, batch_size=batch_size, shuffle=True)\n",
        "val_loader = DataLoader(val_set, batch_size=batch_size, shuffle=True)"
      ],
      "execution_count": 43,
      "outputs": [
        {
          "output_type": "stream",
          "name": "stdout",
          "text": [
            "Total Images:  400\n"
          ]
        }
      ]
    },
    {
      "cell_type": "markdown",
      "metadata": {
        "id": "xMFTmp9UuN6t"
      },
      "source": [
        "# **Load GTA5**"
      ]
    },
    {
      "cell_type": "code",
      "metadata": {
        "id": "ezRAKN0RuTtP"
      },
      "source": [
        "import torch\n",
        "import torch.nn as nn\n",
        "from torch.utils.data import Dataset, DataLoader\n",
        "from torchvision import transforms as T\n",
        "import torch.nn.functional as F\n",
        "\n",
        "from torch.utils.data import Dataset, DataLoader\n",
        "from PIL import Image\n",
        "import cv2\n",
        "#\n",
        "# GTA5 Dataset:\n",
        "mean = [0.28689554, 0.32513303, 0.28389177]\n",
        "std = [0.18696375, 0.19017339, 0.18720214]\n",
        "class GTA5(Dataset):\n",
        "\n",
        "    def __init__(self, img_path, mask_path, X, mean, std, transform=None):\n",
        "        self.img_path = img_path\n",
        "        self.mask_path = mask_path\n",
        "        self.X = X\n",
        "        self.transform = transform\n",
        "        self.mean = mean\n",
        "        self.std = std\n",
        "\n",
        "    def __len__(self):\n",
        "        return len(self.X)\n",
        "\n",
        "    def __getitem__(self, i):\n",
        "        img = cv2.imread(self.img_path + self.X[i] + '.jpg')\n",
        "        img = cv2.cvtColor(img, cv2.COLOR_BGR2RGB)\n",
        "        mask = cv2.imread(self.mask_path + '0' + self.X[i] + '.png', cv2.IMREAD_GRAYSCALE)\n",
        "\n",
        "        # how to transform?\n",
        "        if self.transform:\n",
        "            augmented = self.transform(image=img, mask=mask)\n",
        "            img = Image.fromarray(augmented['image'])\n",
        "            mask = augmented['mask']\n",
        "        else:\n",
        "            img = Image.fromarray(img)\n",
        "        trans = T.Compose(\n",
        "            [T.ToTensor(),\n",
        "             T.Normalize(self.mean, self.std)]\n",
        "        )\n",
        "        img = trans(img)\n",
        "        mask = torch.from_numpy(mask).long()\n",
        "\n",
        "\n",
        "        return img, mask\n",
        "\n",
        "\n",
        "class GTA5_test(Dataset):\n",
        "\n",
        "    def __init__(self, img_path, mask_path, X):\n",
        "        self.img_path = img_path\n",
        "        self.mask_path = mask_path\n",
        "        self.X = X\n",
        "\n",
        "    def __len__(self):\n",
        "        return len(self.X)\n",
        "\n",
        "    def __getitem__(self, idx):\n",
        "        img = cv2.imread(self.img_path + self.X[idx] + '.jpg')\n",
        "        img = cv2.cvtColor(img, cv2.COLOR_BGR2RGB)\n",
        "        mask = cv2.imread(self.mask_path + '0' + self.X[idx] + '.png', cv2.IMREAD_GRAYSCALE)\n",
        "\n",
        "        mask = torch.from_numpy(mask).long()\n",
        "\n",
        "        return img, mask"
      ],
      "execution_count": 44,
      "outputs": []
    },
    {
      "cell_type": "code",
      "metadata": {
        "id": "AiebBsNRutmD",
        "colab": {
          "base_uri": "https://localhost:8080/"
        },
        "outputId": "b6b652f7-1479-4422-eb30-620899237fe3"
      },
      "source": [
        "import os\n",
        "import time\n",
        "\n",
        "import torch\n",
        "import torch.nn as nn\n",
        "from torch.utils.data import Dataset, DataLoader\n",
        "from torchvision import transforms as T\n",
        "import torch.nn.functional as F\n",
        "\n",
        "\n",
        "\n",
        "from sklearn.model_selection import train_test_split\n",
        "\n",
        "from PIL import Image\n",
        "import cv2\n",
        "\n",
        "\n",
        "import pandas as pd\n",
        "import numpy as np\n",
        "import matplotlib.pyplot as plt\n",
        "\n",
        "IMAGE_PATH = 'GTA5/dataset/images'\n",
        "MASK_PATH = 'GTA5/dataset/label_processed'\n",
        "\n",
        "\n",
        "# create df with id of the dataset\n",
        "def create_df(path):\n",
        "    name = []\n",
        "    for root, dirnames, filenames in os.walk(path):\n",
        "        for filename in filenames:\n",
        "            name.append(filename.split('.')[0])\n",
        "\n",
        "    return pd.DataFrame({'id': name}, index=np.arange(0, len(name)))\n",
        "\n",
        "\n",
        "df = create_df(IMAGE_PATH)\n",
        "print('Total Images: ', len(df))\n",
        "\n",
        "\n",
        "\n",
        "# split the dataset into train, validation and test data\n",
        "X_trainval, X_test = train_test_split(df['id'].values, test_size=0.1, random_state=0)\n",
        "X_train, X_val = train_test_split(X_trainval, test_size=0.15, random_state=0)\n",
        "\n",
        "\n",
        "# Define mean and std value\n",
        "mean = [0.28689554, 0.32513303, 0.28389177]\n",
        "std = [0.18696375, 0.19017339, 0.18720214]\n",
        "\n",
        "# create datasets\n",
        "train_set = GTA5(IMAGE_PATH, MASK_PATH, X_train, mean, std)\n",
        "val_set = GTA5(IMAGE_PATH, MASK_PATH, X_val, mean, std)\n",
        "# load data--->define batch size\n",
        "batch_size = 3\n",
        "\n",
        "train_loader = DataLoader(train_set, batch_size=batch_size, shuffle=True)\n",
        "val_loader = DataLoader(val_set, batch_size=batch_size, shuffle=True)"
      ],
      "execution_count": 46,
      "outputs": [
        {
          "output_type": "stream",
          "name": "stdout",
          "text": [
            "Total Images:  4\n"
          ]
        }
      ]
    }
  ]
}